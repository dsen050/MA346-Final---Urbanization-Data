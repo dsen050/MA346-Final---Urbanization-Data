{
 "cells": [
  {
   "cell_type": "markdown",
   "metadata": {},
   "source": [
    "# Final Project - Urbanization Data - Debayan Sen"
   ]
  },
  {
   "cell_type": "markdown",
   "metadata": {},
   "source": [
    "This project looks at urbanization data from the UNICEF [website](https://data.unicef.org/resources/dataset/urbanization-data/). UNICEF stands for the United Nations Children's Fund, and is dedicated to protecting the rights of children across the globe. This dataset looks at the difference between urban and rural areas across the globe and provides indication values of how well they perform according to certain categories. Examples of these categories include \"Birth Registration Rate\" or \"Primary Education Completion Rate\". We will be analyzing this data to see trends and conclusions we can draw from the data."
   ]
  },
  {
   "cell_type": "markdown",
   "metadata": {},
   "source": [
    "## Loading the data (The first sheet)"
   ]
  },
  {
   "cell_type": "markdown",
   "metadata": {},
   "source": [
    "The data we are looking at is an excel file containing two sheets. One of these sheets contains data that is separated by three region categories (Total, Urban, and region) while the other is split by wealth quintile (Q1,Q2,Q3,Q4,Q5). We will first look at the data seperated. We will load the data into a dataframe using pandas and name our dataframe \"by_residence\". "
   ]
  },
  {
   "cell_type": "code",
   "execution_count": 1,
   "metadata": {},
   "outputs": [],
   "source": [
    "import pandas as pd"
   ]
  },
  {
   "cell_type": "code",
   "execution_count": 2,
   "metadata": {},
   "outputs": [],
   "source": [
    "by_residence = pd.read_excel(\"Urbanization-data.xlsx\", sheet_name='by_residence')"
   ]
  },
  {
   "cell_type": "markdown",
   "metadata": {},
   "source": [
    "## Some Simple EDA"
   ]
  },
  {
   "cell_type": "markdown",
   "metadata": {},
   "source": [
    "We want to see what this data looks like to see what we are working with. Let's use the head function to see the first few rows."
   ]
  },
  {
   "cell_type": "code",
   "execution_count": 3,
   "metadata": {},
   "outputs": [
    {
     "name": "stdout",
     "output_type": "stream",
     "text": [
      "     Area name Iso3code  Region                          Indicator name  \\\n",
      "0  Afghanistan      AFG    Asia  At least basic drinking water services   \n",
      "1  Afghanistan      AFG    Asia  At least basic drinking water services   \n",
      "2  Afghanistan      AFG    Asia  At least basic drinking water services   \n",
      "3       Angola      AGO  Africa  At least basic drinking water services   \n",
      "4       Angola      AGO  Africa  At least basic drinking water services   \n",
      "\n",
      "  Survey type  Year Residence  Indicator value  Unweighted population  \\\n",
      "0         DHS  2015     Total         0.630880               201833.0   \n",
      "1         DHS  2015     Urban         0.864950                52023.0   \n",
      "2         DHS  2015     Rural         0.554475               149810.0   \n",
      "3         DHS  2015     Total         0.488314                73914.0   \n",
      "4         DHS  2015     Urban         0.656363                42719.0   \n",
      "\n",
      "   Weighted population  Small Sample  \n",
      "0        196048.300606           0.0  \n",
      "1         48245.901091           0.0  \n",
      "2        147802.399515           0.0  \n",
      "3         77465.131550           0.0  \n",
      "4         49803.875005           0.0  \n"
     ]
    }
   ],
   "source": [
    "print(by_residence.head())"
   ]
  },
  {
   "cell_type": "markdown",
   "metadata": {},
   "source": [
    "We see that there are 11 columns. The Area Name column contains the country, the Iso3code column contains the code for that country, the region is the continent that country is from, the indicator name is the list of categories we are looking at, the Residence is the type of area, and the indicator value gives a measure of how well a region performs in this area. Lets look at what types of data we are looking at and the unique values in each of the columns. "
   ]
  },
  {
   "cell_type": "code",
   "execution_count": 4,
   "metadata": {},
   "outputs": [
    {
     "name": "stdout",
     "output_type": "stream",
     "text": [
      "Area name                 object\n",
      "Iso3code                  object\n",
      "Region                    object\n",
      "Indicator name            object\n",
      "Survey type               object\n",
      "Year                       int64\n",
      "Residence                 object\n",
      "Indicator value          float64\n",
      "Unweighted population    float64\n",
      "Weighted population      float64\n",
      "Small Sample             float64\n",
      "dtype: object\n",
      "['Afghanistan' 'Angola' 'Armenia' 'Bangladesh' 'Barbados' 'Belarus'\n",
      " 'Benin' 'Bosnia and Herzegovina' 'Cambodia' 'Cameroon' 'Chad' 'Colombia'\n",
      " 'Comoros' 'Congo' \"Cote d'Ivoire\" 'Democratic Republic of Congo'\n",
      " 'Dominican Republic' 'Egypt' 'El Salvador' 'Eswatini' 'Ethiopia' 'Gabon'\n",
      " 'Gambia' 'Ghana' 'Guatemala' 'Guinea' 'Guinea-Bissau' 'Guyana' 'Haiti'\n",
      " 'Honduras' 'India' 'Indonesia' 'Kazakhstan' 'Kenya' 'Kosovo*'\n",
      " 'Kyrgyzstan' 'Lao PDR' 'Lesotho' 'Liberia' 'Malawi' 'Mali' 'Mexico'\n",
      " 'Moldova' 'Mongolia' 'Montenegro' 'Namibia' 'Nepal' 'Niger' 'Nigeria'\n",
      " 'Pakistan' 'Panama' 'Paraguay' 'Peru' 'Philippines' 'Rwanda'\n",
      " 'Saint Lucia' 'Sao Tome and Principe' 'Senegal' 'Serbia' 'Sierra Leone'\n",
      " 'State of Palestine' 'Sudan' 'Tajikistan' 'Tanzania' 'Thailand' 'Togo'\n",
      " 'Tunisia' 'Turkey' 'Turkmenistan' 'Ukraine' 'Uruguay' 'Viet Nam' 'Yemen'\n",
      " 'Zambia' 'Zimbabwe' 'Jordan' 'Algeria' 'Kyrgyz Republic' 'Argentina']\n",
      "['Total' 'Urban' 'Rural']\n",
      "['Asia' 'Africa' 'Latin America and the Caribbean' 'Europe']\n",
      "['At least basic drinking water services'\n",
      " 'At least basic sanitation services' 'Birth Registration Rate'\n",
      " 'DPT3 coverage' 'HIV Knowledge Young Men' 'HIV Knowledge Young Women'\n",
      " 'Primary Education Completion Rate' 'Skilled Birth Attendants'\n",
      " 'Stunting Rate' 'Under 5 Mortality Rate']\n"
     ]
    }
   ],
   "source": [
    "print(by_residence.dtypes)\n",
    "print(by_residence['Area name'].unique())\n",
    "print(by_residence['Residence'].unique())\n",
    "print(by_residence['Region'].unique())\n",
    "print(by_residence['Indicator name'].unique())"
   ]
  },
  {
   "cell_type": "markdown",
   "metadata": {},
   "source": [
    "We see that the continents that the countries are from include Asia, Africa, Latin America and the Caribbean (South America), and Europe. We can also see some of the countries that are included in this dataset such as Afghanistan, Cambodia, and Peru. "
   ]
  },
  {
   "cell_type": "markdown",
   "metadata": {},
   "source": [
    "One thing I want to see is the difference between Urban and Rural areas for the indicator value. It would not make sense to get the mean of all the indicator values in the Urban category and Rural category because these indicator values only make sense relative to the indicator type we are looking at. Thus, we want to be able to see the difference between Urban and Rural indicator values for each indicator type. We can do one example with \"At least basic drinking water services\" to see a glimpse into what we want to achieve."
   ]
  },
  {
   "cell_type": "code",
   "execution_count": 5,
   "metadata": {},
   "outputs": [
    {
     "name": "stdout",
     "output_type": "stream",
     "text": [
      "0.8861292037219035\n",
      "0.6719995804003758\n"
     ]
    }
   ],
   "source": [
    "water_services = by_residence[by_residence['Indicator name'] == 'At least basic drinking water services']\n",
    "water_services_urban = water_services[water_services['Residence'] == 'Urban']\n",
    "water_services_rural = water_services[water_services['Residence'] == 'Rural']\n",
    "print(water_services_urban['Indicator value'].mean())\n",
    "print(water_services_rural['Indicator value'].mean())"
   ]
  },
  {
   "cell_type": "markdown",
   "metadata": {},
   "source": [
    "Here we see one of the differences between Urban and Rural, with Urban being a little higher. We want to see this difference across all the indicator types. The streamlit package can allow us to create an interactive web app to create a grouped bar graph to allow us to visualize these differences. We can use the Heroku app to export our interactive web app to the internet which will be linked [here](https://ma346finalprojecturbanization.herokuapp.com/). The first graph on the website will allow us to visualize these differences. The overall trend we see is that the urban indicator value averages are generally higher than the rural areas. "
   ]
  },
  {
   "cell_type": "markdown",
   "metadata": {},
   "source": [
    "##  Data Cleaning "
   ]
  },
  {
   "cell_type": "markdown",
   "metadata": {},
   "source": [
    "Before we go further with our analysis, let us see if there are any NAN values present in our dataset."
   ]
  },
  {
   "cell_type": "code",
   "execution_count": 6,
   "metadata": {},
   "outputs": [
    {
     "name": "stdout",
     "output_type": "stream",
     "text": [
      "Area name                  0\n",
      "Iso3code                   0\n",
      "Region                     0\n",
      "Indicator name             0\n",
      "Survey type                0\n",
      "Year                       0\n",
      "Residence                  0\n",
      "Indicator value            0\n",
      "Unweighted population    174\n",
      "Weighted population      168\n",
      "Small Sample               6\n",
      "dtype: int64\n"
     ]
    }
   ],
   "source": [
    "print(by_residence.isnull().sum())"
   ]
  },
  {
   "cell_type": "markdown",
   "metadata": {},
   "source": [
    "There are some NAN values, we should drop them to make sure our data is not skewed as some indicator values may not be accurately depicted due to an absent unweighted or weighted population value. "
   ]
  },
  {
   "cell_type": "code",
   "execution_count": 7,
   "metadata": {},
   "outputs": [
    {
     "name": "stdout",
     "output_type": "stream",
     "text": [
      "Area name                0\n",
      "Iso3code                 0\n",
      "Region                   0\n",
      "Indicator name           0\n",
      "Survey type              0\n",
      "Year                     0\n",
      "Residence                0\n",
      "Indicator value          0\n",
      "Unweighted population    0\n",
      "Weighted population      0\n",
      "Small Sample             0\n",
      "dtype: int64\n"
     ]
    }
   ],
   "source": [
    "by_residence = by_residence.dropna()\n",
    "print(by_residence.isnull().sum())"
   ]
  },
  {
   "cell_type": "markdown",
   "metadata": {},
   "source": [
    "## Conducting statistical analysis"
   ]
  },
  {
   "cell_type": "markdown",
   "metadata": {},
   "source": [
    "The interactive web app allows us to see the difference between urban and rural indicator values across all of indicator types. Next, we will find out if these differences are statistically significant. Can we conclude that the mean between the urban and rural indicator value are truly different? To do this, we will use the scipy package to conduct a t-test between these two means and get a p-value that we will interpret at 5% significance. "
   ]
  },
  {
   "cell_type": "code",
   "execution_count": 8,
   "metadata": {},
   "outputs": [],
   "source": [
    "from scipy.stats import stats"
   ]
  },
  {
   "cell_type": "code",
   "execution_count": 9,
   "metadata": {},
   "outputs": [],
   "source": [
    "def get_ttest(indicator_name): #Function takes an indicator name\n",
    "    data = by_residence[by_residence['Indicator name'] == indicator_name] #subsets from the given indicator name\n",
    "    data = data[data['Residence'] != \"Total\"] #subsets by getting rid of the \"Total\" category\n",
    "    urban_only = data[data[\"Residence\"] == \"Urban\"] #dataframe with Urban values only\n",
    "    rural_only = data[data[\"Residence\"] == \"Rural\"] #dataframe with Rural values only\n",
    "    ttest = stats.ttest_ind(urban_only[\"Indicator value\"], rural_only[\"Indicator value\"], equal_var=False) #conducts t-test\n",
    "    return ttest\n",
    "\n"
   ]
  },
  {
   "cell_type": "markdown",
   "metadata": {},
   "source": [
    "The above function takes an indicator name as an argument and returns a result from a t.test between the indicator values for urban and rural. Let us test this function on \"At least basic drinking water services\" to see what it returns."
   ]
  },
  {
   "cell_type": "code",
   "execution_count": 10,
   "metadata": {},
   "outputs": [
    {
     "name": "stdout",
     "output_type": "stream",
     "text": [
      "Ttest_indResult(statistic=6.765969274080035, pvalue=9.300390188336524e-10)\n"
     ]
    }
   ],
   "source": [
    "print(get_ttest(\"At least basic drinking water services\"))"
   ]
  },
  {
   "cell_type": "markdown",
   "metadata": {},
   "source": [
    "We want to run this on all the categories. Let us store all the categories in a new dataframe, and then we will make a new column with the respective t-tests run on each category."
   ]
  },
  {
   "cell_type": "code",
   "execution_count": 11,
   "metadata": {},
   "outputs": [
    {
     "name": "stdout",
     "output_type": "stream",
     "text": [
      "                           Indicator name  \\\n",
      "0  At least basic drinking water services   \n",
      "1      At least basic sanitation services   \n",
      "2                 Birth Registration Rate   \n",
      "3                           DPT3 coverage   \n",
      "4                 HIV Knowledge Young Men   \n",
      "5               HIV Knowledge Young Women   \n",
      "6       Primary Education Completion Rate   \n",
      "7                Skilled Birth Attendants   \n",
      "8                           Stunting Rate   \n",
      "\n",
      "                                         T-test  \n",
      "0    (6.765969274080035, 9.300390188336524e-10)  \n",
      "1    (3.405840750691231, 0.0008609414081028816)  \n",
      "2     (2.1736922506683087, 0.03143411693317499)  \n",
      "3    (1.8974390711237301, 0.060172327537745415)  \n",
      "4  (3.9855943898437056, 0.00012663254511369044)  \n",
      "5    (3.429682023455981, 0.0007885800110693229)  \n",
      "6   (4.309754226507249, 3.4528211821155395e-05)  \n",
      "7  (5.6458691675405115, 1.5050877682313529e-07)  \n",
      "8  (-4.033767711944595, 0.00010078988027887174)  \n"
     ]
    }
   ],
   "source": [
    "ttest_data = pd.DataFrame({'Indicator name':by_residence[\"Indicator name\"].unique()}) #Creates our new dataframe with all the categories\n",
    "ttest_data[\"T-test\"] = ttest_data['Indicator name'].apply(get_ttest) #applies our function to the indicator categories\n",
    "print(ttest_data)"
   ]
  },
  {
   "cell_type": "markdown",
   "metadata": {},
   "source": [
    "We see the p-values created by the t-test for each of our categories. We see that the p-value for \"DPT3 coverage\" (which refers to the three doses of diphtheria, tetanus toxoid and pertussis vaccine) is above 0.05, indicating that for this category there is no difference between urban and rural. Let us create a function to see the exact differences in means between these categories. We will apply this function to our ttest_data dataframe. "
   ]
  },
  {
   "cell_type": "code",
   "execution_count": 12,
   "metadata": {},
   "outputs": [],
   "source": [
    "def get_difference(indicator_name): #takes in an indicator name\n",
    "    data = by_residence[by_residence['Indicator name'] == indicator_name] #subsets by that indicator name\n",
    "    data_urban = data[data[\"Residence\"] == \"Urban\"]\n",
    "    data_rural = data[data[\"Residence\"] == \"Rural\"]\n",
    "    # get means\n",
    "    urban_mean = data_urban[\"Indicator value\"].mean()\n",
    "    rural_mean = data_rural[\"Indicator value\"].mean()\n",
    "    # get difference then return\n",
    "    difference = urban_mean - rural_mean\n",
    "    return difference\n",
    "    "
   ]
  },
  {
   "cell_type": "code",
   "execution_count": 13,
   "metadata": {},
   "outputs": [
    {
     "name": "stdout",
     "output_type": "stream",
     "text": [
      "                           Indicator name  \\\n",
      "0  At least basic drinking water services   \n",
      "1      At least basic sanitation services   \n",
      "2                 Birth Registration Rate   \n",
      "3                           DPT3 coverage   \n",
      "4                 HIV Knowledge Young Men   \n",
      "5               HIV Knowledge Young Women   \n",
      "6       Primary Education Completion Rate   \n",
      "7                Skilled Birth Attendants   \n",
      "8                           Stunting Rate   \n",
      "\n",
      "                                         T-test  Difference  \n",
      "0    (6.765969274080035, 9.300390188336524e-10)    0.219416  \n",
      "1    (3.405840750691231, 0.0008609414081028816)    0.169579  \n",
      "2     (2.1736922506683087, 0.03143411693317499)    0.096360  \n",
      "3    (1.8974390711237301, 0.060172327537745415)    0.048744  \n",
      "4  (3.9855943898437056, 0.00012663254511369044)    0.109607  \n",
      "5    (3.429682023455981, 0.0007885800110693229)    0.094404  \n",
      "6   (4.309754226507249, 3.4528211821155395e-05)    0.146422  \n",
      "7  (5.6458691675405115, 1.5050877682313529e-07)    0.175251  \n",
      "8  (-4.033767711944595, 0.00010078988027887174)   -0.084948  \n"
     ]
    }
   ],
   "source": [
    "ttest_data[\"Difference\"] = ttest_data[\"Indicator name\"].apply(get_difference) #creates a new column \"Difference\"\n",
    "print(ttest_data)"
   ]
  },
  {
   "cell_type": "markdown",
   "metadata": {},
   "source": [
    "Seeing the difference in means confirms our result as the difference in means for DPT3 coverage is the smallest. This most means that between urban and rural areas for this dataset there is not a statistically significant difference for DPT3 coverage between urban and rural areas.  "
   ]
  },
  {
   "cell_type": "markdown",
   "metadata": {},
   "source": [
    "## Looking at disparities in Urban areas"
   ]
  },
  {
   "cell_type": "markdown",
   "metadata": {},
   "source": [
    "We see that there are differences between urban and rural areas, with indicators seeeming to indicate more preferable indicator scores for Urban areas overall. However, within just the Urban category alone, what are the scores like across the various indicators? We can create a bar graph to visualize this difference. First we subset our original by_residence dataframe to include only Urban areas. "
   ]
  },
  {
   "cell_type": "code",
   "execution_count": 14,
   "metadata": {},
   "outputs": [
    {
     "name": "stdout",
     "output_type": "stream",
     "text": [
      "      Area name Iso3code                           Region  \\\n",
      "1   Afghanistan      AFG                             Asia   \n",
      "4        Angola      AGO                           Africa   \n",
      "7       Armenia      ARM                             Asia   \n",
      "10   Bangladesh      BGD                             Asia   \n",
      "13     Barbados      BRB  Latin America and the Caribbean   \n",
      "\n",
      "                            Indicator name Survey type  Year Residence  \\\n",
      "1   At least basic drinking water services         DHS  2015     Urban   \n",
      "4   At least basic drinking water services         DHS  2015     Urban   \n",
      "7   At least basic drinking water services         DHS  2015     Urban   \n",
      "10  At least basic drinking water services         DHS  2014     Urban   \n",
      "13  At least basic drinking water services        MICS  2012     Urban   \n",
      "\n",
      "    Indicator value  Unweighted population  Weighted population  Small Sample  \n",
      "1          0.864950                52023.0         48245.901091           0.0  \n",
      "4          0.656363                42719.0         49803.875005           0.0  \n",
      "7          0.996344                15939.0         16482.243799           0.0  \n",
      "10         0.961331                25926.0         21101.411905           0.0  \n",
      "13         0.997964                 1708.0          5102.740824           0.0  \n"
     ]
    }
   ],
   "source": [
    "data_urban = by_residence[by_residence[\"Residence\"] == \"Urban\"] #dataframe with only Urban residence areas\n",
    "print(data_urban.head())"
   ]
  },
  {
   "cell_type": "markdown",
   "metadata": {},
   "source": [
    "Next we import the matplotlib.pyplot and numpy modules to create a bargraph. We will go through each of the indicators and graph the mean indicator score for each category. "
   ]
  },
  {
   "cell_type": "code",
   "execution_count": 15,
   "metadata": {},
   "outputs": [],
   "source": [
    "import matplotlib.pyplot as plt\n",
    "import numpy as np"
   ]
  },
  {
   "cell_type": "code",
   "execution_count": 16,
   "metadata": {},
   "outputs": [],
   "source": [
    "indicator_list = by_residence[\"Indicator name\"].unique().tolist() #list of all the indicator names\n",
    "\n",
    "urban_means = [] #empty list to store the means in \n",
    "\n",
    "for i in indicator_list:\n",
    "    category = data_urban[data_urban[\"Indicator name\"] == i]\n",
    "    urban_means.append(category[\"Indicator value\"].mean())\n",
    "\n"
   ]
  },
  {
   "cell_type": "code",
   "execution_count": 17,
   "metadata": {},
   "outputs": [
    {
     "data": {
      "image/png": "[encoded data removed]",
      "text/plain": [
       "<Figure size 432x288 with 1 Axes>"
      ]
     },
     "metadata": {
      "needs_background": "light"
     },
     "output_type": "display_data"
    }
   ],
   "source": [
    "plt.bar(indicator_list, urban_means)\n",
    "plt.title(\"Average indicator score value for each indicator name\")\n",
    "plt.ylabel(\"Indicator Score\")\n",
    "plt.xlabel(\"Indicator names\")\n",
    "plt.xticks(rotation = -85)\n",
    "plt.show()"
   ]
  },
  {
   "cell_type": "markdown",
   "metadata": {},
   "source": [
    "We see here that disparities exist across categories between the urban residences. "
   ]
  },
  {
   "cell_type": "markdown",
   "metadata": {},
   "source": [
    "# Looking at wealth quintiles (Second sheet)"
   ]
  },
  {
   "cell_type": "markdown",
   "metadata": {},
   "source": [
    "Moving on to the second sheet in this excel file, this is similar to the previous sheet in that it has urban versus rural, but instead each country name appears ten times to represent each wealth quintile. There are five wealth quintiles (Q1, Q2, Q3, Q4, and Q5) and there are indicator values for each one. There are five wealth quintiles for each country in the rural and urban residence areas, which means a country shows up 10 times to account for each of these quintiles. "
   ]
  },
  {
   "cell_type": "code",
   "execution_count": 18,
   "metadata": {},
   "outputs": [
    {
     "name": "stdout",
     "output_type": "stream",
     "text": [
      "     Area name Iso3code Region                          Indicator name  \\\n",
      "0  Afghanistan      AFG   Asia  At least basic drinking water services   \n",
      "1  Afghanistan      AFG   Asia  At least basic drinking water services   \n",
      "2  Afghanistan      AFG   Asia  At least basic drinking water services   \n",
      "3  Afghanistan      AFG   Asia  At least basic drinking water services   \n",
      "4  Afghanistan      AFG   Asia  At least basic drinking water services   \n",
      "\n",
      "  Survey type  Year Residence Wealth quintile  Indicator value  \\\n",
      "0         DHS  2015     Urban              Q1         0.712094   \n",
      "1         DHS  2015     Urban              Q2         0.822749   \n",
      "2         DHS  2015     Urban              Q3         0.905302   \n",
      "3         DHS  2015     Urban              Q4         0.941093   \n",
      "4         DHS  2015     Urban              Q5         0.942910   \n",
      "\n",
      "   Unweighted population  Weighted population\\  Small Sample  \n",
      "0                18763.0           9928.450283           0.0  \n",
      "1                10164.0           9232.637160           0.0  \n",
      "2                 8160.0           9107.088417           0.0  \n",
      "3                 7574.0           9735.917840           0.0  \n",
      "4                 7362.0          10241.807391           0.0  \n"
     ]
    }
   ],
   "source": [
    "by_res_wealth = pd.read_excel(\"Urbanization-data.xlsx\", sheet_name='by_residence_wealthquintiles')\n",
    "print(by_res_wealth.head())"
   ]
  },
  {
   "cell_type": "markdown",
   "metadata": {},
   "source": [
    "I would like to see the difference between Urban and Rural indicator scores across these different quintiles and across different indicator categories. Once again, streamlit can help us do this. In the [interactive web app](https://ma346finalprojecturbanization.herokuapp.com/), the second graph has the average urban and rural indicator scores across the different quintiles in a selected indicator category. The overall trend we see is that the urban indicator value averages are generally higher than the rural areas. "
   ]
  },
  {
   "cell_type": "markdown",
   "metadata": {},
   "source": [
    "## Conducting another statistical analysis"
   ]
  },
  {
   "cell_type": "markdown",
   "metadata": {},
   "source": [
    "We will conduct a statistical analysis with a t-test again to see whether the difference between urban and rural indicator value for each wealth quintile is truly significant. This will require many t-tests to be run at once, therefore to make this easier, we will create a new data with each category and wealth quintile, and then run a function on this dataframe to produce a new column with all the t-tests. First we will create a list with all the wealth quintiles."
   ]
  },
  {
   "cell_type": "code",
   "execution_count": 19,
   "metadata": {},
   "outputs": [],
   "source": [
    "quintiles = by_res_wealth[\"Wealth quintile\"].unique().tolist()"
   ]
  },
  {
   "cell_type": "markdown",
   "metadata": {},
   "source": [
    "Next we will create a dictionary where the keys will be the indicators and the values will be the the wealth quintiles. "
   ]
  },
  {
   "cell_type": "code",
   "execution_count": 20,
   "metadata": {},
   "outputs": [
    {
     "name": "stdout",
     "output_type": "stream",
     "text": [
      "{'At least basic drinking water services': ['Q1', 'Q2', 'Q3', 'Q4', 'Q5'], 'At least basic sanitation services': ['Q1', 'Q2', 'Q3', 'Q4', 'Q5'], 'Birth Registration Rate': ['Q1', 'Q2', 'Q3', 'Q4', 'Q5'], 'DPT3 coverage': ['Q1', 'Q2', 'Q3', 'Q4', 'Q5'], 'HIV Knowledge Young Men': ['Q1', 'Q2', 'Q3', 'Q4', 'Q5'], 'HIV Knowledge Young Women': ['Q1', 'Q2', 'Q3', 'Q4', 'Q5'], 'Primary Education Completion Rate': ['Q1', 'Q2', 'Q3', 'Q4', 'Q5'], 'Skilled Birth Attendants': ['Q1', 'Q2', 'Q3', 'Q4', 'Q5'], 'Stunting Rate': ['Q1', 'Q2', 'Q3', 'Q4', 'Q5']}\n"
     ]
    }
   ],
   "source": [
    "dict_data = dict.fromkeys(indicator_list, quintiles) \n",
    "print(dict_data)"
   ]
  },
  {
   "cell_type": "markdown",
   "metadata": {},
   "source": [
    "We can turn this dictionary into a dataframe so that we can perform statistical analysis on it. We will name our dataframe \"quintile_ttest\"."
   ]
  },
  {
   "cell_type": "code",
   "execution_count": 21,
   "metadata": {},
   "outputs": [
    {
     "name": "stdout",
     "output_type": "stream",
     "text": [
      "  At least basic drinking water services At least basic sanitation services  \\\n",
      "0                                     Q1                                 Q1   \n",
      "1                                     Q2                                 Q2   \n",
      "2                                     Q3                                 Q3   \n",
      "3                                     Q4                                 Q4   \n",
      "4                                     Q5                                 Q5   \n",
      "\n",
      "  Birth Registration Rate DPT3 coverage HIV Knowledge Young Men  \\\n",
      "0                      Q1            Q1                      Q1   \n",
      "1                      Q2            Q2                      Q2   \n",
      "2                      Q3            Q3                      Q3   \n",
      "3                      Q4            Q4                      Q4   \n",
      "4                      Q5            Q5                      Q5   \n",
      "\n",
      "  HIV Knowledge Young Women Primary Education Completion Rate  \\\n",
      "0                        Q1                                Q1   \n",
      "1                        Q2                                Q2   \n",
      "2                        Q3                                Q3   \n",
      "3                        Q4                                Q4   \n",
      "4                        Q5                                Q5   \n",
      "\n",
      "  Skilled Birth Attendants Stunting Rate  \n",
      "0                       Q1            Q1  \n",
      "1                       Q2            Q2  \n",
      "2                       Q3            Q3  \n",
      "3                       Q4            Q4  \n",
      "4                       Q5            Q5  \n"
     ]
    }
   ],
   "source": [
    "quintile_ttest = pd.DataFrame.from_dict(dict_data)\n",
    "print(quintile_ttest)"
   ]
  },
  {
   "cell_type": "markdown",
   "metadata": {},
   "source": [
    "This dataframe is not structured in a way we can run an analysis on it. We would ideally like one column to have all the indicator categories and another column to have all the corresponding wealth quintiles. We can use the stack function that pandas provides to do this. "
   ]
  },
  {
   "cell_type": "code",
   "execution_count": 22,
   "metadata": {},
   "outputs": [
    {
     "name": "stdout",
     "output_type": "stream",
     "text": [
      "0  At least basic drinking water services    Q1\n",
      "   At least basic sanitation services        Q1\n",
      "   Birth Registration Rate                   Q1\n",
      "   DPT3 coverage                             Q1\n",
      "   HIV Knowledge Young Men                   Q1\n",
      "   HIV Knowledge Young Women                 Q1\n",
      "   Primary Education Completion Rate         Q1\n",
      "   Skilled Birth Attendants                  Q1\n",
      "   Stunting Rate                             Q1\n",
      "1  At least basic drinking water services    Q2\n",
      "   At least basic sanitation services        Q2\n",
      "   Birth Registration Rate                   Q2\n",
      "   DPT3 coverage                             Q2\n",
      "   HIV Knowledge Young Men                   Q2\n",
      "   HIV Knowledge Young Women                 Q2\n",
      "   Primary Education Completion Rate         Q2\n",
      "   Skilled Birth Attendants                  Q2\n",
      "   Stunting Rate                             Q2\n",
      "2  At least basic drinking water services    Q3\n",
      "   At least basic sanitation services        Q3\n",
      "   Birth Registration Rate                   Q3\n",
      "   DPT3 coverage                             Q3\n",
      "   HIV Knowledge Young Men                   Q3\n",
      "   HIV Knowledge Young Women                 Q3\n",
      "   Primary Education Completion Rate         Q3\n",
      "   Skilled Birth Attendants                  Q3\n",
      "   Stunting Rate                             Q3\n",
      "3  At least basic drinking water services    Q4\n",
      "   At least basic sanitation services        Q4\n",
      "   Birth Registration Rate                   Q4\n",
      "   DPT3 coverage                             Q4\n",
      "   HIV Knowledge Young Men                   Q4\n",
      "   HIV Knowledge Young Women                 Q4\n",
      "   Primary Education Completion Rate         Q4\n",
      "   Skilled Birth Attendants                  Q4\n",
      "   Stunting Rate                             Q4\n",
      "4  At least basic drinking water services    Q5\n",
      "   At least basic sanitation services        Q5\n",
      "   Birth Registration Rate                   Q5\n",
      "   DPT3 coverage                             Q5\n",
      "   HIV Knowledge Young Men                   Q5\n",
      "   HIV Knowledge Young Women                 Q5\n",
      "   Primary Education Completion Rate         Q5\n",
      "   Skilled Birth Attendants                  Q5\n",
      "   Stunting Rate                             Q5\n",
      "dtype: object\n"
     ]
    }
   ],
   "source": [
    "quintile_ttest_stacked = quintile_ttest.stack()\n",
    "print(quintile_ttest_stacked)"
   ]
  },
  {
   "cell_type": "markdown",
   "metadata": {},
   "source": [
    "This dataframe will be much easier to apply a function to. However, we should reset the index and find the column names (which we currently cannot see) to work with our data. Let us reset the index and also print the columns of this new dataframe. "
   ]
  },
  {
   "cell_type": "code",
   "execution_count": 23,
   "metadata": {},
   "outputs": [
    {
     "name": "stdout",
     "output_type": "stream",
     "text": [
      "level_0\n",
      "level_1\n",
      "0\n"
     ]
    }
   ],
   "source": [
    "quintile_ttest_stacked = quintile_ttest_stacked.reset_index()\n",
    "for col in quintile_ttest_stacked.columns:\n",
    "    print(col)\n",
    "# print(quintile_ttest_stacked[0])"
   ]
  },
  {
   "cell_type": "markdown",
   "metadata": {},
   "source": [
    "We can now create our function. This function will take two arguments, an indicator name and wealth quintile, and then subset the data accordingly such that we are only looking at the data with the inidicator category and quintile, then perform a t-test based on the urban and rural data respectively. "
   ]
  },
  {
   "cell_type": "code",
   "execution_count": 24,
   "metadata": {},
   "outputs": [],
   "source": [
    "def ttest_for_quintile(indicator_name, quintile): #takes two arguments, indicator name and the quintile\n",
    "    data = by_res_wealth[by_res_wealth[\"Indicator name\"] == indicator_name] #subsets by indicator name\n",
    "    data = data[data[\"Wealth quintile\"] == quintile] #subsets by quintile\n",
    "    urban_only = data[data[\"Residence\"] == \"Urban\"]\n",
    "    rural_only = data[data[\"Residence\"] == \"Rural\"]\n",
    "    result = stats.ttest_ind(urban_only[\"Indicator value\"], rural_only[\"Indicator value\"], equal_var=False) #returns t test \n",
    "    return result"
   ]
  },
  {
   "cell_type": "markdown",
   "metadata": {},
   "source": [
    "We can now apply our function ttest_for_quintile to our dataframe using a for loop. We will keep our results in a list \"new_column\" which then we will add as a column named \"T-test\"."
   ]
  },
  {
   "cell_type": "code",
   "execution_count": 25,
   "metadata": {},
   "outputs": [],
   "source": [
    "new_column = [] #empty list where we will keep our results\n",
    "for index, row in quintile_ttest_stacked.iterrows():\n",
    "    new_column.append(ttest_for_quintile(row['level_1'], row[0])) #goes through the dataframe and applies ttest_for_quintile function\n",
    "#     print(row['level_1'], row[0])\n",
    "\n",
    "# print(new_column_stacked)\n",
    "# print(len(new_column_stacked))"
   ]
  },
  {
   "cell_type": "code",
   "execution_count": 26,
   "metadata": {},
   "outputs": [
    {
     "name": "stdout",
     "output_type": "stream",
     "text": [
      "    level_0                                 level_1   0  \\\n",
      "0         0  At least basic drinking water services  Q1   \n",
      "1         0      At least basic sanitation services  Q1   \n",
      "2         0                 Birth Registration Rate  Q1   \n",
      "3         0                           DPT3 coverage  Q1   \n",
      "4         0                 HIV Knowledge Young Men  Q1   \n",
      "5         0               HIV Knowledge Young Women  Q1   \n",
      "6         0       Primary Education Completion Rate  Q1   \n",
      "7         0                Skilled Birth Attendants  Q1   \n",
      "8         0                           Stunting Rate  Q1   \n",
      "9         1  At least basic drinking water services  Q2   \n",
      "10        1      At least basic sanitation services  Q2   \n",
      "11        1                 Birth Registration Rate  Q2   \n",
      "12        1                           DPT3 coverage  Q2   \n",
      "13        1                 HIV Knowledge Young Men  Q2   \n",
      "14        1               HIV Knowledge Young Women  Q2   \n",
      "15        1       Primary Education Completion Rate  Q2   \n",
      "16        1                Skilled Birth Attendants  Q2   \n",
      "17        1                           Stunting Rate  Q2   \n",
      "18        2  At least basic drinking water services  Q3   \n",
      "19        2      At least basic sanitation services  Q3   \n",
      "20        2                 Birth Registration Rate  Q3   \n",
      "21        2                           DPT3 coverage  Q3   \n",
      "22        2                 HIV Knowledge Young Men  Q3   \n",
      "23        2               HIV Knowledge Young Women  Q3   \n",
      "24        2       Primary Education Completion Rate  Q3   \n",
      "25        2                Skilled Birth Attendants  Q3   \n",
      "26        2                           Stunting Rate  Q3   \n",
      "27        3  At least basic drinking water services  Q4   \n",
      "28        3      At least basic sanitation services  Q4   \n",
      "29        3                 Birth Registration Rate  Q4   \n",
      "30        3                           DPT3 coverage  Q4   \n",
      "31        3                 HIV Knowledge Young Men  Q4   \n",
      "32        3               HIV Knowledge Young Women  Q4   \n",
      "33        3       Primary Education Completion Rate  Q4   \n",
      "34        3                Skilled Birth Attendants  Q4   \n",
      "35        3                           Stunting Rate  Q4   \n",
      "36        4  At least basic drinking water services  Q5   \n",
      "37        4      At least basic sanitation services  Q5   \n",
      "38        4                 Birth Registration Rate  Q5   \n",
      "39        4                           DPT3 coverage  Q5   \n",
      "40        4                 HIV Knowledge Young Men  Q5   \n",
      "41        4               HIV Knowledge Young Women  Q5   \n",
      "42        4       Primary Education Completion Rate  Q5   \n",
      "43        4                Skilled Birth Attendants  Q5   \n",
      "44        4                           Stunting Rate  Q5   \n",
      "\n",
      "                                          T-test  \n",
      "0    (5.7037332167962065, 7.511868518895007e-08)  \n",
      "1     (2.4797165463027735, 0.014290067329062154)  \n",
      "2       (1.740001530446576, 0.08402563904805971)  \n",
      "3     (2.1827176868549474, 0.030950116344619843)  \n",
      "4    (3.4996046483049525, 0.0006950481630119156)  \n",
      "5    (3.4826698123542856, 0.0006590793866741309)  \n",
      "6                                     (nan, nan)  \n",
      "7    (4.927217319667007, 2.4981003566527235e-06)  \n",
      "8    (-2.7188404078766277, 0.007486319620478373)  \n",
      "9    (6.352966549432741, 4.6920400938155555e-09)  \n",
      "10      (2.83896748681616, 0.005175070416894129)  \n",
      "11      (2.125954062099929, 0.03525947434373083)  \n",
      "12      (1.909097161578997, 0.05862618846934938)  \n",
      "13    (4.057943546801032, 9.756234309856751e-05)  \n",
      "14   (3.5137276049904975, 0.0005911518680932497)  \n",
      "15                                    (nan, nan)  \n",
      "16    (5.514632762233652, 2.443715942494649e-07)  \n",
      "17   (-3.226991376516742, 0.0016211247088710418)  \n",
      "18   (6.671526364389165, 1.4677391283038823e-09)  \n",
      "19    (2.8000033088158762, 0.005810507749620656)  \n",
      "20    (2.3239882432835235, 0.021585963378425964)  \n",
      "21     (1.8239161172527025, 0.07075682132829333)  \n",
      "22   (3.863934025643547, 0.00019803736427240396)  \n",
      "23   (3.837562520578395, 0.00018570908857212416)  \n",
      "24                                    (nan, nan)  \n",
      "25  (5.6718178606897895, 1.4843841885414355e-07)  \n",
      "26   (-4.658460843586763, 9.393202493427575e-06)  \n",
      "27   (6.786772079852703, 1.2136878095627272e-09)  \n",
      "28    (3.199409770809618, 0.0017060819809660412)  \n",
      "29     (2.351757203055086, 0.020125549508647422)  \n",
      "30     (1.8358252817154124, 0.06878610275767616)  \n",
      "31   (4.506972387017216, 1.7939701071456848e-05)  \n",
      "32   (3.1496323118130647, 0.0019882870057798415)  \n",
      "33                                    (nan, nan)  \n",
      "34    (5.871610463860889, 7.785261381191427e-08)  \n",
      "35  (-4.921288686935625, 3.2706037914059045e-06)  \n",
      "36   (6.247479937537341, 1.6623356837430966e-08)  \n",
      "37   (5.166300584268685, 1.1125043533358367e-06)  \n",
      "38    (2.3567968876295673, 0.019929508303137642)  \n",
      "39       (1.182839616242266, 0.2389594376111347)  \n",
      "40     (3.485490302942373, 0.000726559462218637)  \n",
      "41   (3.3668107507002487, 0.0009767603378276046)  \n",
      "42                                    (nan, nan)  \n",
      "43     (5.33805311830545, 8.341254548101732e-07)  \n",
      "44   (-5.567665218918299, 2.468677028556975e-07)  \n"
     ]
    }
   ],
   "source": [
    "quintile_ttest_stacked['T-test'] = new_column\n",
    "print(quintile_ttest_stacked)"
   ]
  },
  {
   "cell_type": "markdown",
   "metadata": {},
   "source": [
    "We would like to see which p-values are above or below 0.05 based on our results. Let us see the type of variable each value is in the \"T-test\" column. "
   ]
  },
  {
   "cell_type": "code",
   "execution_count": 27,
   "metadata": {},
   "outputs": [
    {
     "name": "stdout",
     "output_type": "stream",
     "text": [
      "<class 'scipy.stats.stats.Ttest_indResult'>\n"
     ]
    }
   ],
   "source": [
    "print(type(quintile_ttest_stacked[\"T-test\"][0]))"
   ]
  },
  {
   "cell_type": "markdown",
   "metadata": {},
   "source": [
    "Currently the type of each value in the column is a class specific to the scipy module. We will not be able to access our specific p-values like this. We can turn this into a tuple using the tuple function that python provides. Turning each row in the \"T-test\" column into a tuple will allow us to access the p-value. "
   ]
  },
  {
   "cell_type": "code",
   "execution_count": 28,
   "metadata": {},
   "outputs": [],
   "source": [
    "def make_tuple(input): #function that returns a tuple of the input given\n",
    "    x = tuple(input)\n",
    "    return x\n",
    "quintile_ttest_stacked[\"T-test\"] = quintile_ttest_stacked[\"T-test\"].apply(make_tuple) #makes the column into tuples"
   ]
  },
  {
   "cell_type": "markdown",
   "metadata": {},
   "source": [
    "Next we create a function that we will apply to our \"T-test\" column where if the p-value is greater than 0.05, we will return \"No difference\" and elsewise it will return \"Difference\". This will show us if there is truly a difference between urban and rural areas for each of the rows. "
   ]
  },
  {
   "cell_type": "code",
   "execution_count": 29,
   "metadata": {},
   "outputs": [],
   "source": [
    "def difference(input):\n",
    "    if input[1] > 0.05:\n",
    "        return \"No difference\"\n",
    "    else:\n",
    "        return \"Difference\"\n",
    "    "
   ]
  },
  {
   "cell_type": "markdown",
   "metadata": {},
   "source": [
    "We will create a new column named \"Difference?\" which will show us the results of our T-test and if there is a difference between the average indicator values between urban and rural areas. "
   ]
  },
  {
   "cell_type": "code",
   "execution_count": 30,
   "metadata": {},
   "outputs": [
    {
     "name": "stdout",
     "output_type": "stream",
     "text": [
      "    level_0                                 level_1   0  \\\n",
      "0         0  At least basic drinking water services  Q1   \n",
      "1         0      At least basic sanitation services  Q1   \n",
      "2         0                 Birth Registration Rate  Q1   \n",
      "3         0                           DPT3 coverage  Q1   \n",
      "4         0                 HIV Knowledge Young Men  Q1   \n",
      "5         0               HIV Knowledge Young Women  Q1   \n",
      "6         0       Primary Education Completion Rate  Q1   \n",
      "7         0                Skilled Birth Attendants  Q1   \n",
      "8         0                           Stunting Rate  Q1   \n",
      "9         1  At least basic drinking water services  Q2   \n",
      "10        1      At least basic sanitation services  Q2   \n",
      "11        1                 Birth Registration Rate  Q2   \n",
      "12        1                           DPT3 coverage  Q2   \n",
      "13        1                 HIV Knowledge Young Men  Q2   \n",
      "14        1               HIV Knowledge Young Women  Q2   \n",
      "15        1       Primary Education Completion Rate  Q2   \n",
      "16        1                Skilled Birth Attendants  Q2   \n",
      "17        1                           Stunting Rate  Q2   \n",
      "18        2  At least basic drinking water services  Q3   \n",
      "19        2      At least basic sanitation services  Q3   \n",
      "20        2                 Birth Registration Rate  Q3   \n",
      "21        2                           DPT3 coverage  Q3   \n",
      "22        2                 HIV Knowledge Young Men  Q3   \n",
      "23        2               HIV Knowledge Young Women  Q3   \n",
      "24        2       Primary Education Completion Rate  Q3   \n",
      "25        2                Skilled Birth Attendants  Q3   \n",
      "26        2                           Stunting Rate  Q3   \n",
      "27        3  At least basic drinking water services  Q4   \n",
      "28        3      At least basic sanitation services  Q4   \n",
      "29        3                 Birth Registration Rate  Q4   \n",
      "30        3                           DPT3 coverage  Q4   \n",
      "31        3                 HIV Knowledge Young Men  Q4   \n",
      "32        3               HIV Knowledge Young Women  Q4   \n",
      "33        3       Primary Education Completion Rate  Q4   \n",
      "34        3                Skilled Birth Attendants  Q4   \n",
      "35        3                           Stunting Rate  Q4   \n",
      "36        4  At least basic drinking water services  Q5   \n",
      "37        4      At least basic sanitation services  Q5   \n",
      "38        4                 Birth Registration Rate  Q5   \n",
      "39        4                           DPT3 coverage  Q5   \n",
      "40        4                 HIV Knowledge Young Men  Q5   \n",
      "41        4               HIV Knowledge Young Women  Q5   \n",
      "42        4       Primary Education Completion Rate  Q5   \n",
      "43        4                Skilled Birth Attendants  Q5   \n",
      "44        4                           Stunting Rate  Q5   \n",
      "\n",
      "                                          T-test    Difference?  \n",
      "0    (5.7037332167962065, 7.511868518895007e-08)     Difference  \n",
      "1     (2.4797165463027735, 0.014290067329062154)     Difference  \n",
      "2       (1.740001530446576, 0.08402563904805971)  No difference  \n",
      "3     (2.1827176868549474, 0.030950116344619843)     Difference  \n",
      "4    (3.4996046483049525, 0.0006950481630119156)     Difference  \n",
      "5    (3.4826698123542856, 0.0006590793866741309)     Difference  \n",
      "6                                     (nan, nan)     Difference  \n",
      "7    (4.927217319667007, 2.4981003566527235e-06)     Difference  \n",
      "8    (-2.7188404078766277, 0.007486319620478373)     Difference  \n",
      "9    (6.352966549432741, 4.6920400938155555e-09)     Difference  \n",
      "10      (2.83896748681616, 0.005175070416894129)     Difference  \n",
      "11      (2.125954062099929, 0.03525947434373083)     Difference  \n",
      "12      (1.909097161578997, 0.05862618846934938)  No difference  \n",
      "13    (4.057943546801032, 9.756234309856751e-05)     Difference  \n",
      "14   (3.5137276049904975, 0.0005911518680932497)     Difference  \n",
      "15                                    (nan, nan)     Difference  \n",
      "16    (5.514632762233652, 2.443715942494649e-07)     Difference  \n",
      "17   (-3.226991376516742, 0.0016211247088710418)     Difference  \n",
      "18   (6.671526364389165, 1.4677391283038823e-09)     Difference  \n",
      "19    (2.8000033088158762, 0.005810507749620656)     Difference  \n",
      "20    (2.3239882432835235, 0.021585963378425964)     Difference  \n",
      "21     (1.8239161172527025, 0.07075682132829333)  No difference  \n",
      "22   (3.863934025643547, 0.00019803736427240396)     Difference  \n",
      "23   (3.837562520578395, 0.00018570908857212416)     Difference  \n",
      "24                                    (nan, nan)     Difference  \n",
      "25  (5.6718178606897895, 1.4843841885414355e-07)     Difference  \n",
      "26   (-4.658460843586763, 9.393202493427575e-06)     Difference  \n",
      "27   (6.786772079852703, 1.2136878095627272e-09)     Difference  \n",
      "28    (3.199409770809618, 0.0017060819809660412)     Difference  \n",
      "29     (2.351757203055086, 0.020125549508647422)     Difference  \n",
      "30     (1.8358252817154124, 0.06878610275767616)  No difference  \n",
      "31   (4.506972387017216, 1.7939701071456848e-05)     Difference  \n",
      "32   (3.1496323118130647, 0.0019882870057798415)     Difference  \n",
      "33                                    (nan, nan)     Difference  \n",
      "34    (5.871610463860889, 7.785261381191427e-08)     Difference  \n",
      "35  (-4.921288686935625, 3.2706037914059045e-06)     Difference  \n",
      "36   (6.247479937537341, 1.6623356837430966e-08)     Difference  \n",
      "37   (5.166300584268685, 1.1125043533358367e-06)     Difference  \n",
      "38    (2.3567968876295673, 0.019929508303137642)     Difference  \n",
      "39       (1.182839616242266, 0.2389594376111347)  No difference  \n",
      "40     (3.485490302942373, 0.000726559462218637)     Difference  \n",
      "41   (3.3668107507002487, 0.0009767603378276046)     Difference  \n",
      "42                                    (nan, nan)     Difference  \n",
      "43     (5.33805311830545, 8.341254548101732e-07)     Difference  \n",
      "44   (-5.567665218918299, 2.468677028556975e-07)     Difference  \n"
     ]
    }
   ],
   "source": [
    "quintile_ttest_stacked['Difference?'] = quintile_ttest_stacked[\"T-test\"].apply(difference)\n",
    "print(quintile_ttest_stacked)"
   ]
  },
  {
   "cell_type": "markdown",
   "metadata": {},
   "source": [
    "We see there are no differences between Urban and Rural regions for Q1 Birth registration rates, Q2 DPT3 Coverage, Q3 DPT3 Coverage, Q4 DPT3 Coverage, and Q5 DPT3 Coverage. This supports our observations from the previous sheet that there seems to be not too much difference in DPT coverage between urban and rural areas. "
   ]
  },
  {
   "cell_type": "markdown",
   "metadata": {},
   "source": [
    "## Conclusion"
   ]
  },
  {
   "cell_type": "markdown",
   "metadata": {},
   "source": [
    "Between both sheets of data, we see there seems to be an “Urban advantage” where the average indicator scores are higher than the rural indicator scores except for in the DPT3 coverage area. This means that DPT3 vaccination efforts are doing well in reaching rural areas, however, there needs to be an increased focus in providing more resources to rural areas to increase access to better quality education, water sources, and health services. "
   ]
  }
 ],
 "metadata": {
  "kernelspec": {
   "display_name": "Python 3",
   "language": "python",
   "name": "python3"
  },
  "language_info": {
   "codemirror_mode": {
    "name": "ipython",
    "version": 3
   },
   "file_extension": ".py",
   "mimetype": "text/x-python",
   "name": "python",
   "nbconvert_exporter": "python",
   "pygments_lexer": "ipython3",
   "version": "3.8.5"
  }
 },
 "nbformat": 4,
 "nbformat_minor": 4
}
